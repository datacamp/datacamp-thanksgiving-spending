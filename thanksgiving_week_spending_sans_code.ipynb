{
 "cells": [
  {
   "cell_type": "markdown",
   "metadata": {},
   "source": [
    "It's that time of year again: holiday season, accompanied by holiday spending season. At this time of year, consumerism is famous for running rampant in the United States of America (USA). But how much does the USA actually spend in holiday season, defined as the time from Thanksgiving until the end of the year? How much money is spent from Thanksgiving through to Cyber Monday? \n",
    "\n",
    "Before diving into the money spent Thanksgiving through to Cyber Monday, let's look at how much money the USA collectively spends in retail each month from the end of 2013 up until now."
   ]
  },
  {
   "cell_type": "markdown",
   "metadata": {},
   "source": [
    "## How much does America spend on retail?"
   ]
  },
  {
   "cell_type": "markdown",
   "metadata": {},
   "source": [
    "Here, you can see that amount that was spent in the USA each month over the past several years. Note that the data, taken from [YCharts](https://ycharts.com/indicators/retail_sales), is seasonally adjusted so we won't yet see increases over the holiday period in November and December:\n",
    " \n",
    "<img src=\"http://res.cloudinary.com/dyd911kmh/image/upload/f_auto,q_auto:best/v1511859326/plot_1_uyfclt.png\" />"
   ]
  },
  {
   "cell_type": "markdown",
   "metadata": {},
   "source": [
    "## Spending more than doubles in holiday season"
   ]
  },
  {
   "cell_type": "markdown",
   "metadata": {},
   "source": [
    "To check out specific spending over the holiday season, let's zoom into 2016 and look at how much money was spent across several industries over the holiday season in 2016 and over the year in total. Remember that the holiday season is defined as the time from Thanksgiving until the end of the year, that is, from November 24 until December 31st, that is, approximately 10% of the days in the year. The data that was used to generate the graphic below is from the [National Retail Foundation](https://nrf.com/media/press-releases/nrf-forecasts-holiday-sales-increase-between-36-and-4-percent) (NRF).\n",
    "\n",
    "<img src=\"http://res.cloudinary.com/dyd911kmh/image/upload/f_auto,q_auto:best/v1511859326/plot_2_olivu1.png\"/>"
   ]
  },
  {
   "cell_type": "markdown",
   "metadata": {},
   "source": [
    "You can not only see that annual spending is dominated by 'Food & Beverage', 'Electronic & mail-order shopping', 'Warehouse clubs and superstores' and 'Building and garden supplies', but you also get an idea of the order of magnitude spent on these each year, for example, over $700 billion on 'Food & beverage'. More interestingly, you can also see that the amount of money spent on 'Food & beverage' over the holiday season was more than the amount spent on 'Furniture' throughout the whole of 2016, along with several other sectors.\n",
    "\n",
    "The trillion dollar question (not quite) still remains: _how much do holiday season sales account for of total annual sales_? The figure below will show you across all these sectors. The black dotted line is 10%, which is the percentage of days accounted for by from Thanksgiving until the end of the year.\n",
    "\n",
    "<img src=\"http://res.cloudinary.com/dyd911kmh/image/upload/f_auto,q_auto:best/v1511859327/plot_3_awnpx2.png\"/>"
   ]
  },
  {
   "cell_type": "markdown",
   "metadata": {},
   "source": [
    "In 8 of 13 sectors, over 20% of annual spending occurs in the holiday season, over double the amount you would expect purely from the count of days. In all sectors, over 15% of annual spending occurs in the holiday season. "
   ]
  },
  {
   "cell_type": "markdown",
   "metadata": {},
   "source": [
    "The National Retail Federation announced [last month](https://nrf.com/media/press-releases/nrf-forecasts-holiday-sales-increase-between-36-and-4-percent) that it expects holiday retail sales in November and December – excluding automobiles, gasoline and restaurants – to increase between 3.6 and 4 percent for a total of 678.75 billion to 682 billion dollars, up from 655.8 billion last year."
   ]
  },
  {
   "cell_type": "markdown",
   "metadata": {},
   "source": [
    "## Spending over Thanksgiving weekend"
   ]
  },
  {
   "cell_type": "markdown",
   "metadata": {},
   "source": [
    "You have just seen how serious holiday season spending can get.  As we're coming out of Thanksgiving weekend, let's now zoom into historical data from the NRF as to when shoppers prefer to shop over this period: Thanksgiving Day, Black Friday, Small Business Saturday or Sunday (which seems to not be named yet). Soon you'll see what happens on Cyber Monday. The figure below is from the [NRF's 2015 _Holiday Trends and Expectations Holiday Survival Kit_ ](https://nrf.com/sites/default/files/2015%20NRF%20HSK_102015_Final.pdf) (opens a pdf)."
   ]
  },
  {
   "cell_type": "markdown",
   "metadata": {},
   "source": [
    "<img src=\"http://res.cloudinary.com/dyd911kmh/image/upload/f_auto,q_auto:best/v1511859327/thanksgiving_shopping_days_qo2zka.png\"/>"
   ]
  },
  {
   "cell_type": "markdown",
   "metadata": {},
   "source": [
    "Black Friday is the clear winner! We're still waiting for the data to come through for 2017 and, in fact, as [FiveThirtyEight reports](https://fivethirtyeight.com/features/black-friday-sales-numbers-are-useless-and-wrong/?ex_cid=story-twitter), we will need to wait some time as early estimates are notoriously wrong, but the NRF attempts to predict Thanksgiving weekend shopping each year by doing a nationwide survey. According to their survey, over a third of America said they would go shopping over the weekend.\n",
    "\n",
    "<img src=\"http://res.cloudinary.com/dyd911kmh/image/upload/f_auto,q_auto:best/v1511859326/plot_4_y4zgsa.png\"/>"
   ]
  },
  {
   "cell_type": "markdown",
   "metadata": {},
   "source": [
    "Of those who responded that they will go shopping, 66.3% said that the deals were too good to miss out on. Of those that won't go shopping, 52.4% said that they don't enjoy the experience. Even more telling is that, of those that said they wouldn't go shopping, when asked \"What Would Convince You To Shop Over Thanksgiving Weekend either in store or online?\", 46.4% said \"Nothing would change my mind about shopping over Thanksgiving weekend\"."
   ]
  },
  {
   "cell_type": "markdown",
   "metadata": {},
   "source": [
    "And which days do they plan to shop on?\n",
    "\n",
    "<img src=\"http://res.cloudinary.com/dyd911kmh/image/upload/f_auto,q_auto:best/v1511859326/plot_5_yyun5v.png\"/>"
   ]
  },
  {
   "cell_type": "markdown",
   "metadata": {},
   "source": [
    "Notice that the bars add up to more than 100% (they actually add up to more than 200%). This is because many people will go shopping on several days. Black Friday is the most popular, with 70% of respondees shopping then."
   ]
  },
  {
   "cell_type": "markdown",
   "metadata": {},
   "source": [
    "## How much does American spend on Black Friday?"
   ]
  },
  {
   "cell_type": "markdown",
   "metadata": {},
   "source": [
    "You've seen that Black Friday is the the most popular day for shopping across Thanksgiving Weekend. But how much do people actually spend on Black Friday? Let's delve into how much money Black Friday is actually worth; The data of this graph is from [Statistics Brain](https://www.statisticbrain.com/black-friday-yearly-spending/).\n",
    "\n",
    "<img src=\"http://res.cloudinary.com/dyd911kmh/image/upload/f_auto,q_auto:best/v1511859326/plot_6_jolcli.png\"/>"
   ]
  },
  {
   "cell_type": "markdown",
   "metadata": {},
   "source": [
    "<img src=\"http://res.cloudinary.com/dyd911kmh/image/upload/f_auto,q_auto:best/v1511859327/plot_7_nlw1of.png\"/>"
   ]
  },
  {
   "cell_type": "markdown",
   "metadata": {},
   "source": [
    "From the above, you can see that the amount spent in-store is around 50 times more than that spent online. However, is that proportion increasing? Let's check out the percentage of Black Friday sales that were made online up until 2015:\n",
    "\n",
    "<img src=\"http://res.cloudinary.com/dyd911kmh/image/upload/f_auto,q_auto:best/v1511859327/plot_8_nmcaep.png\"/>"
   ]
  },
  {
   "cell_type": "markdown",
   "metadata": {},
   "source": [
    "The proportion of online sales is definitely increasing. Let's now have a look at which online retailers do the best on Black Friday: do you have any ideas?"
   ]
  },
  {
   "cell_type": "markdown",
   "metadata": {},
   "source": [
    "## Which online retailers get the most unique visitors?\n",
    "\n",
    "<img src=\"http://res.cloudinary.com/dyd911kmh/image/upload/f_auto,q_auto:best/v1511859327/plot_9_pmw6lq.png\"/>"
   ]
  },
  {
   "cell_type": "markdown",
   "metadata": {},
   "source": [
    "Amazon has around double the number of unique visitors than Walmart, which comes in at second place. Could this be because Walmart buys more online ads than Walmart? Let's investigate this by looking at which retailers spend the most money on Black Friday on the Google Keyword _Black Friday_?\n",
    "\n",
    "<img src=\"http://res.cloudinary.com/dyd911kmh/image/upload/f_auto,q_auto:best/v1511859327/plot_10_tvkn3e.png\"/>"
   ]
  },
  {
   "cell_type": "markdown",
   "metadata": {},
   "source": [
    "Amazon isn't even in the top ten retailers in terms of ads bought and they still dominate the online retail market. We can't wait to check out what really went down in retail, online and in-store, over Thanksgiving weekend in 2017. How much did you spend over Thanksgiving weekend, 2017?\n",
    "\n",
    "This post was generated from a Jupyter Notebook; You can find it in [this repository](https://github.com/datacamp/datacamp-thanksgiving-spending). If you have any thoughts, responses and/or ruminations, feel free to reach out to me on twitter: [@hugobowne](https://twitter.com/hugobowne)."
   ]
  }
 ],
 "metadata": {
  "kernelspec": {
   "display_name": "Python 3",
   "language": "python",
   "name": "python3"
  },
  "language_info": {
   "codemirror_mode": {
    "name": "ipython",
    "version": 3
   },
   "file_extension": ".py",
   "mimetype": "text/x-python",
   "name": "python",
   "nbconvert_exporter": "python",
   "pygments_lexer": "ipython3",
   "version": "3.6.3"
  }
 },
 "nbformat": 4,
 "nbformat_minor": 2
}
